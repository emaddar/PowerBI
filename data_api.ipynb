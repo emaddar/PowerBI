{
 "cells": [
  {
   "cell_type": "code",
   "execution_count": 1,
   "metadata": {},
   "outputs": [],
   "source": [
    "import pandas as pd\n",
    "import requests\n",
    "import json\n",
    "import csv"
   ]
  },
  {
   "cell_type": "code",
   "execution_count": 2,
   "metadata": {},
   "outputs": [],
   "source": [
    "# URL of the JSON API\n",
    "url = \"https://data.enedis.fr/api/records/1.0/search/?dataset=coefficients-des-profils&q=&rows=2&facet=horodate&facet=sous_profil&facet=categorie&refine.horodate=2020\""
   ]
  },
  {
   "cell_type": "code",
   "execution_count": null,
   "metadata": {},
   "outputs": [],
   "source": [
    "for _ in range(1000):\n",
    "\n",
    "        \n",
    "    # Make API request\n",
    "    response = requests.get(url)\n",
    "\n",
    "    # Check if response is successful\n",
    "    if response.status_code == 200:\n",
    "        # Parse JSON data from response\n",
    "        data = response.json()\n",
    "\n",
    "        # Open existing CSV file in write mode\n",
    "        with open('output.csv', mode='a', newline='') as csv_file:\n",
    "            # Create CSV writer object\n",
    "            writer = csv.writer(csv_file)\n",
    "\n",
    "            # Write data to CSV file\n",
    "            for item in data['records']:\n",
    "                try:\n",
    "                    horodate = item['fields']['horodate']\n",
    "                except:\n",
    "                    horodate = None\n",
    "\n",
    "                try:\n",
    "                    coefficient_ajuste = item['fields']['coefficient_ajuste']\n",
    "                except:\n",
    "                    horodate = None\n",
    "                \n",
    "                try:\n",
    "                    categorie = item['fields']['categorie']\n",
    "                except:\n",
    "                    horodate = None\n",
    "\n",
    "                try:\n",
    "                    sous_profil = item['fields']['sous_profil']\n",
    "                except:\n",
    "                    horodate = None\n",
    "                \n",
    "                try:\n",
    "                    coefficient_prepare = item['fields']['coefficient_prepare']\n",
    "                except:\n",
    "                    horodate = None\n",
    "\n",
    "\n",
    "                writer.writerow([horodate, coefficient_ajuste, categorie, sous_profil, coefficient_prepare])\n",
    "    else:\n",
    "        print('API request failed with status code', response.status_code)\n"
   ]
  },
  {
   "cell_type": "code",
   "execution_count": 4,
   "metadata": {},
   "outputs": [],
   "source": [
    "data_csv = pd.read_csv(\"data/coefficients-de-profils-dynamiques-anticipes-en-j1.csv\", sep=\";\")"
   ]
  },
  {
   "cell_type": "code",
   "execution_count": 6,
   "metadata": {},
   "outputs": [
    {
     "data": {
      "text/plain": [
       "Index(['Horodate', 'Sous profil', 'Groupe période mobile',\n",
       "       'Coefficient dynamique j+1', 'Indicateur dispersion des poids',\n",
       "       'Indicateur de précision'],\n",
       "      dtype='object')"
      ]
     },
     "execution_count": 6,
     "metadata": {},
     "output_type": "execute_result"
    }
   ],
   "source": [
    "data_csv.columns"
   ]
  },
  {
   "cell_type": "code",
   "execution_count": null,
   "metadata": {},
   "outputs": [],
   "source": []
  }
 ],
 "metadata": {
  "kernelspec": {
   "display_name": "powerbi",
   "language": "python",
   "name": "python3"
  },
  "language_info": {
   "codemirror_mode": {
    "name": "ipython",
    "version": 3
   },
   "file_extension": ".py",
   "mimetype": "text/x-python",
   "name": "python",
   "nbconvert_exporter": "python",
   "pygments_lexer": "ipython3",
   "version": "3.11.3"
  },
  "orig_nbformat": 4
 },
 "nbformat": 4,
 "nbformat_minor": 2
}
