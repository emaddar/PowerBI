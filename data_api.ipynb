{
 "cells": [
  {
   "cell_type": "code",
   "execution_count": 1,
   "metadata": {},
   "outputs": [],
   "source": [
    "import pandas as pd\n",
    "import requests\n",
    "import json\n",
    "import csv"
   ]
  },
  {
   "cell_type": "code",
   "execution_count": 2,
   "metadata": {},
   "outputs": [],
   "source": [
    "# URL of the JSON API\n",
    "url = \"https://data.enedis.fr/api/records/1.0/search/?dataset=coefficients-des-profils&q=&rows=2&facet=horodate&facet=sous_profil&facet=categorie&refine.horodate=2020\""
   ]
  },
  {
   "cell_type": "code",
   "execution_count": null,
   "metadata": {},
   "outputs": [],
   "source": [
    "for _ in range(1000):\n",
    "\n",
    "        \n",
    "    # Make API request\n",
    "    response = requests.get(url)\n",
    "\n",
    "    # Check if response is successful\n",
    "    if response.status_code == 200:\n",
    "        # Parse JSON data from response\n",
    "        data = response.json()\n",
    "\n",
    "        # Open existing CSV file in write mode\n",
    "        with open('output.csv', mode='a', newline='') as csv_file:\n",
    "            # Create CSV writer object\n",
    "            writer = csv.writer(csv_file)\n",
    "\n",
    "            # Write data to CSV file\n",
    "            for item in data['records']:\n",
    "                try:\n",
    "                    horodate = item['fields']['horodate']\n",
    "                except:\n",
    "                    horodate = None\n",
    "\n",
    "                try:\n",
    "                    coefficient_ajuste = item['fields']['coefficient_ajuste']\n",
    "                except:\n",
    "                    horodate = None\n",
    "                \n",
    "                try:\n",
    "                    categorie = item['fields']['categorie']\n",
    "                except:\n",
    "                    horodate = None\n",
    "\n",
    "                try:\n",
    "                    sous_profil = item['fields']['sous_profil']\n",
    "                except:\n",
    "                    horodate = None\n",
    "                \n",
    "                try:\n",
    "                    coefficient_prepare = item['fields']['coefficient_prepare']\n",
    "                except:\n",
    "                    horodate = None\n",
    "\n",
    "\n",
    "                writer.writerow([horodate, coefficient_ajuste, categorie, sous_profil, coefficient_prepare])\n",
    "    else:\n",
    "        print('API request failed with status code', response.status_code)\n"
   ]
  },
  {
   "cell_type": "code",
   "execution_count": 4,
   "metadata": {},
   "outputs": [],
   "source": [
    "data_csv = pd.read_csv(\"data/coefficients-de-profils-dynamiques-anticipes-en-j1.csv\", sep=\";\")"
   ]
  },
  {
   "cell_type": "code",
   "execution_count": 6,
   "metadata": {},
   "outputs": [
    {
     "data": {
      "text/plain": [
       "Index(['Horodate', 'Sous profil', 'Groupe période mobile',\n",
       "       'Coefficient dynamique j+1', 'Indicateur dispersion des poids',\n",
       "       'Indicateur de précision'],\n",
       "      dtype='object')"
      ]
     },
     "execution_count": 6,
     "metadata": {},
     "output_type": "execute_result"
    }
   ],
   "source": [
    "data_csv.columns"
   ]
  },
  {
   "cell_type": "code",
   "execution_count": 1,
   "metadata": {},
   "outputs": [
    {
     "ename": "FileNotFoundError",
     "evalue": "[Errno 2] No such file or directory: 'data_csv.csv'",
     "output_type": "error",
     "traceback": [
      "\u001b[0;31m---------------------------------------------------------------------------\u001b[0m",
      "\u001b[0;31mFileNotFoundError\u001b[0m                         Traceback (most recent call last)",
      "Cell \u001b[0;32mIn[1], line 35\u001b[0m\n\u001b[1;32m     33\u001b[0m input_file \u001b[39m=\u001b[39m \u001b[39m'\u001b[39m\u001b[39mdata_csv.csv\u001b[39m\u001b[39m'\u001b[39m\n\u001b[1;32m     34\u001b[0m output_dir \u001b[39m=\u001b[39m \u001b[39m'\u001b[39m\u001b[39moutput_directory\u001b[39m\u001b[39m'\u001b[39m\n\u001b[0;32m---> 35\u001b[0m split_csv_file(input_file, output_dir)\n",
      "Cell \u001b[0;32mIn[1], line 8\u001b[0m, in \u001b[0;36msplit_csv_file\u001b[0;34m(input_file, output_dir, max_file_size)\u001b[0m\n\u001b[1;32m      5\u001b[0m \u001b[39mif\u001b[39;00m \u001b[39mnot\u001b[39;00m os\u001b[39m.\u001b[39mpath\u001b[39m.\u001b[39mexists(output_dir):\n\u001b[1;32m      6\u001b[0m     os\u001b[39m.\u001b[39mmakedirs(output_dir)\n\u001b[0;32m----> 8\u001b[0m \u001b[39mwith\u001b[39;00m \u001b[39mopen\u001b[39;49m(input_file, \u001b[39m'\u001b[39;49m\u001b[39mr\u001b[39;49m\u001b[39m'\u001b[39;49m, newline\u001b[39m=\u001b[39;49m\u001b[39m'\u001b[39;49m\u001b[39m'\u001b[39;49m, encoding\u001b[39m=\u001b[39;49m\u001b[39m'\u001b[39;49m\u001b[39mutf-8\u001b[39;49m\u001b[39m'\u001b[39;49m) \u001b[39mas\u001b[39;00m csv_file:\n\u001b[1;32m      9\u001b[0m     reader \u001b[39m=\u001b[39m csv\u001b[39m.\u001b[39mreader(csv_file)\n\u001b[1;32m     10\u001b[0m     headers \u001b[39m=\u001b[39m \u001b[39mnext\u001b[39m(reader)\n",
      "File \u001b[0;32m~/miniconda3/envs/bowerbi/lib/python3.11/site-packages/IPython/core/interactiveshell.py:284\u001b[0m, in \u001b[0;36m_modified_open\u001b[0;34m(file, *args, **kwargs)\u001b[0m\n\u001b[1;32m    277\u001b[0m \u001b[39mif\u001b[39;00m file \u001b[39min\u001b[39;00m {\u001b[39m0\u001b[39m, \u001b[39m1\u001b[39m, \u001b[39m2\u001b[39m}:\n\u001b[1;32m    278\u001b[0m     \u001b[39mraise\u001b[39;00m \u001b[39mValueError\u001b[39;00m(\n\u001b[1;32m    279\u001b[0m         \u001b[39mf\u001b[39m\u001b[39m\"\u001b[39m\u001b[39mIPython won\u001b[39m\u001b[39m'\u001b[39m\u001b[39mt let you open fd=\u001b[39m\u001b[39m{\u001b[39;00mfile\u001b[39m}\u001b[39;00m\u001b[39m by default \u001b[39m\u001b[39m\"\u001b[39m\n\u001b[1;32m    280\u001b[0m         \u001b[39m\"\u001b[39m\u001b[39mas it is likely to crash IPython. If you know what you are doing, \u001b[39m\u001b[39m\"\u001b[39m\n\u001b[1;32m    281\u001b[0m         \u001b[39m\"\u001b[39m\u001b[39myou can use builtins\u001b[39m\u001b[39m'\u001b[39m\u001b[39m open.\u001b[39m\u001b[39m\"\u001b[39m\n\u001b[1;32m    282\u001b[0m     )\n\u001b[0;32m--> 284\u001b[0m \u001b[39mreturn\u001b[39;00m io_open(file, \u001b[39m*\u001b[39;49margs, \u001b[39m*\u001b[39;49m\u001b[39m*\u001b[39;49mkwargs)\n",
      "\u001b[0;31mFileNotFoundError\u001b[0m: [Errno 2] No such file or directory: 'data_csv.csv'"
     ]
    }
   ],
   "source": [
    "import csv\n",
    "import os\n",
    "\n",
    "def split_csv_file(input_file, output_dir, max_file_size=100 * 1024 * 1024):\n",
    "    if not os.path.exists(output_dir):\n",
    "        os.makedirs(output_dir)\n",
    "\n",
    "    with open(input_file, 'r', newline='', encoding='utf-8') as csv_file:\n",
    "        reader = csv.reader(csv_file)\n",
    "        headers = next(reader)\n",
    "\n",
    "        current_file = 1\n",
    "        current_size = 0\n",
    "        output_file = os.path.join(output_dir, f'split_{current_file}.csv')\n",
    "\n",
    "        with open(output_file, 'w', newline='', encoding='utf-8') as output_csv:\n",
    "            writer = csv.writer(output_csv)\n",
    "            writer.writerow(headers)\n",
    "\n",
    "            for row in reader:\n",
    "                row_size = sum(len(s) for s in row) + len(row)  # Including delimiters\n",
    "                if current_size + row_size > max_file_size:\n",
    "                    current_file += 1\n",
    "                    current_size = 0\n",
    "                    output_file = os.path.join(output_dir, f'split_{current_file}.csv')\n",
    "                    with open(output_file, 'w', newline='', encoding='utf-8') as output_csv:\n",
    "                        writer = csv.writer(output_csv)\n",
    "                        writer.writerow(headers)\n",
    "\n",
    "                writer.writerow(row)\n",
    "                current_size += row_size\n",
    "\n",
    "input_file = 'huge_csv_file.csv'\n",
    "output_dir = 'output_directory'\n",
    "split_csv_file(input_file, output_dir)"
   ]
  },
  {
   "cell_type": "code",
   "execution_count": null,
   "metadata": {},
   "outputs": [],
   "source": []
  }
 ],
 "metadata": {
  "kernelspec": {
   "display_name": "powerbi",
   "language": "python",
   "name": "python3"
  },
  "language_info": {
   "codemirror_mode": {
    "name": "ipython",
    "version": 3
   },
   "file_extension": ".py",
   "mimetype": "text/x-python",
   "name": "python",
   "nbconvert_exporter": "python",
   "pygments_lexer": "ipython3",
   "version": "3.11.3"
  },
  "orig_nbformat": 4
 },
 "nbformat": 4,
 "nbformat_minor": 2
}
