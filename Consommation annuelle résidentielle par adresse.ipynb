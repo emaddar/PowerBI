{
 "cells": [
  {
   "cell_type": "code",
   "execution_count": 2,
   "metadata": {},
   "outputs": [],
   "source": [
    "import pandas as pd\n"
   ]
  },
  {
   "cell_type": "code",
   "execution_count": 3,
   "metadata": {},
   "outputs": [],
   "source": [
    "data = pd.read_csv(\"consommation-annuelle-residentielle-par-adresse.csv\", sep=\";\")\n"
   ]
  },
  {
   "cell_type": "code",
   "execution_count": 12,
   "metadata": {},
   "outputs": [
    {
     "name": "stdout",
     "output_type": "stream",
     "text": [
      "<class 'pandas.core.frame.DataFrame'>\n",
      "RangeIndex: 1603548 entries, 0 to 1603547\n",
      "Data columns (total 16 columns):\n",
      " #   Column                                                         Non-Null Count    Dtype  \n",
      "---  ------                                                         --------------    -----  \n",
      " 0   Année                                                          1603548 non-null  int64  \n",
      " 1   Code IRIS                                                      1603548 non-null  object \n",
      " 2   Nom IRIS                                                       1603548 non-null  object \n",
      " 3   Numéro de voie                                                 1603545 non-null  float64\n",
      " 4   Indice de répétition                                           86548 non-null    object \n",
      " 5   Type de voie                                                   1596634 non-null  object \n",
      " 6   Libellé de voie                                                1603548 non-null  object \n",
      " 7   Code INSEE de la commune                                       1603548 non-null  int64  \n",
      " 8   Nom de la commune                                              1603490 non-null  object \n",
      " 9   Segment de client                                              1603548 non-null  object \n",
      " 10  Nombre de logements                                            1603548 non-null  int64  \n",
      " 11  Consommation annuelle totale de l'adresse (MWh)                1603548 non-null  float64\n",
      " 12  Consommation annuelle moyenne par logement de l'adresse (MWh)  1603548 non-null  float64\n",
      " 13  Consommation annuelle moyenne de la commune (MWh)              1603548 non-null  float64\n",
      " 14  Adresse                                                        1603548 non-null  object \n",
      " 15  Tri des adresses                                               1603548 non-null  int64  \n",
      "dtypes: float64(4), int64(4), object(8)\n",
      "memory usage: 195.7+ MB\n"
     ]
    }
   ],
   "source": [
    "data.info()"
   ]
  },
  {
   "attachments": {},
   "cell_type": "markdown",
   "metadata": {},
   "source": [
    "###  split the DataFrame into several CSV files with a maximum size of 50 MB"
   ]
  },
  {
   "cell_type": "code",
   "execution_count": 2,
   "metadata": {},
   "outputs": [
    {
     "name": "stdout",
     "output_type": "stream",
     "text": [
      "Chunk 0_0 written to c:\\Users\\Apprenant\\Documents\\PowerBI\\data\\conso_annul_par_adress\\output_file_0_0.csv\n",
      "Chunk 0_1 written to c:\\Users\\Apprenant\\Documents\\PowerBI\\data\\conso_annul_par_adress\\output_file_0_1.csv\n"
     ]
    },
    {
     "name": "stderr",
     "output_type": "stream",
     "text": [
      "C:\\Users\\Apprenant\\AppData\\Local\\Temp\\ipykernel_18076\\3319699563.py:13: DtypeWarning: Columns (1) have mixed types. Specify dtype option on import or set low_memory=False.\n",
      "  for i, chunk in enumerate(chunks):\n"
     ]
    },
    {
     "name": "stdout",
     "output_type": "stream",
     "text": [
      "Chunk 1_0 written to c:\\Users\\Apprenant\\Documents\\PowerBI\\data\\conso_annul_par_adress\\output_file_1_0.csv\n",
      "Chunk 1_1 written to c:\\Users\\Apprenant\\Documents\\PowerBI\\data\\conso_annul_par_adress\\output_file_1_1.csv\n"
     ]
    },
    {
     "name": "stderr",
     "output_type": "stream",
     "text": [
      "C:\\Users\\Apprenant\\AppData\\Local\\Temp\\ipykernel_18076\\3319699563.py:13: DtypeWarning: Columns (1) have mixed types. Specify dtype option on import or set low_memory=False.\n",
      "  for i, chunk in enumerate(chunks):\n"
     ]
    },
    {
     "name": "stdout",
     "output_type": "stream",
     "text": [
      "Chunk 2_0 written to c:\\Users\\Apprenant\\Documents\\PowerBI\\data\\conso_annul_par_adress\\output_file_2_0.csv\n",
      "Chunk 2_1 written to c:\\Users\\Apprenant\\Documents\\PowerBI\\data\\conso_annul_par_adress\\output_file_2_1.csv\n"
     ]
    },
    {
     "name": "stderr",
     "output_type": "stream",
     "text": [
      "C:\\Users\\Apprenant\\AppData\\Local\\Temp\\ipykernel_18076\\3319699563.py:13: DtypeWarning: Columns (1) have mixed types. Specify dtype option on import or set low_memory=False.\n",
      "  for i, chunk in enumerate(chunks):\n"
     ]
    },
    {
     "name": "stdout",
     "output_type": "stream",
     "text": [
      "Chunk 3_0 written to c:\\Users\\Apprenant\\Documents\\PowerBI\\data\\conso_annul_par_adress\\output_file_3_0.csv\n",
      "Chunk 3_1 written to c:\\Users\\Apprenant\\Documents\\PowerBI\\data\\conso_annul_par_adress\\output_file_3_1.csv\n"
     ]
    },
    {
     "name": "stderr",
     "output_type": "stream",
     "text": [
      "C:\\Users\\Apprenant\\AppData\\Local\\Temp\\ipykernel_18076\\3319699563.py:13: DtypeWarning: Columns (1) have mixed types. Specify dtype option on import or set low_memory=False.\n",
      "  for i, chunk in enumerate(chunks):\n"
     ]
    },
    {
     "name": "stdout",
     "output_type": "stream",
     "text": [
      "Chunk 4_0 written to c:\\Users\\Apprenant\\Documents\\PowerBI\\data\\conso_annul_par_adress\\output_file_4_0.csv\n",
      "Chunk 4_1 written to c:\\Users\\Apprenant\\Documents\\PowerBI\\data\\conso_annul_par_adress\\output_file_4_1.csv\n"
     ]
    },
    {
     "name": "stderr",
     "output_type": "stream",
     "text": [
      "C:\\Users\\Apprenant\\AppData\\Local\\Temp\\ipykernel_18076\\3319699563.py:13: DtypeWarning: Columns (1) have mixed types. Specify dtype option on import or set low_memory=False.\n",
      "  for i, chunk in enumerate(chunks):\n"
     ]
    },
    {
     "name": "stdout",
     "output_type": "stream",
     "text": [
      "Chunk 5_0 written to c:\\Users\\Apprenant\\Documents\\PowerBI\\data\\conso_annul_par_adress\\output_file_5_0.csv\n",
      "Chunk 5_1 written to c:\\Users\\Apprenant\\Documents\\PowerBI\\data\\conso_annul_par_adress\\output_file_5_1.csv\n"
     ]
    },
    {
     "name": "stderr",
     "output_type": "stream",
     "text": [
      "C:\\Users\\Apprenant\\AppData\\Local\\Temp\\ipykernel_18076\\3319699563.py:13: DtypeWarning: Columns (1) have mixed types. Specify dtype option on import or set low_memory=False.\n",
      "  for i, chunk in enumerate(chunks):\n"
     ]
    },
    {
     "name": "stdout",
     "output_type": "stream",
     "text": [
      "Chunk 6_0 written to c:\\Users\\Apprenant\\Documents\\PowerBI\\data\\conso_annul_par_adress\\output_file_6_0.csv\n",
      "Chunk 6_1 written to c:\\Users\\Apprenant\\Documents\\PowerBI\\data\\conso_annul_par_adress\\output_file_6_1.csv\n"
     ]
    },
    {
     "name": "stderr",
     "output_type": "stream",
     "text": [
      "C:\\Users\\Apprenant\\AppData\\Local\\Temp\\ipykernel_18076\\3319699563.py:13: DtypeWarning: Columns (1) have mixed types. Specify dtype option on import or set low_memory=False.\n",
      "  for i, chunk in enumerate(chunks):\n"
     ]
    },
    {
     "name": "stdout",
     "output_type": "stream",
     "text": [
      "Chunk 7_0 written to c:\\Users\\Apprenant\\Documents\\PowerBI\\data\\conso_annul_par_adress\\output_file_7_0.csv\n",
      "Chunk 7_1 written to c:\\Users\\Apprenant\\Documents\\PowerBI\\data\\conso_annul_par_adress\\output_file_7_1.csv\n"
     ]
    },
    {
     "name": "stderr",
     "output_type": "stream",
     "text": [
      "C:\\Users\\Apprenant\\AppData\\Local\\Temp\\ipykernel_18076\\3319699563.py:13: DtypeWarning: Columns (1) have mixed types. Specify dtype option on import or set low_memory=False.\n",
      "  for i, chunk in enumerate(chunks):\n"
     ]
    },
    {
     "name": "stdout",
     "output_type": "stream",
     "text": [
      "Chunk 8_0 written to c:\\Users\\Apprenant\\Documents\\PowerBI\\data\\conso_annul_par_adress\\output_file_8_0.csv\n",
      "Chunk 8_1 written to c:\\Users\\Apprenant\\Documents\\PowerBI\\data\\conso_annul_par_adress\\output_file_8_1.csv\n"
     ]
    },
    {
     "name": "stderr",
     "output_type": "stream",
     "text": [
      "C:\\Users\\Apprenant\\AppData\\Local\\Temp\\ipykernel_18076\\3319699563.py:13: DtypeWarning: Columns (1) have mixed types. Specify dtype option on import or set low_memory=False.\n",
      "  for i, chunk in enumerate(chunks):\n"
     ]
    },
    {
     "name": "stdout",
     "output_type": "stream",
     "text": [
      "Chunk 9_0 written to c:\\Users\\Apprenant\\Documents\\PowerBI\\data\\conso_annul_par_adress\\output_file_9_0.csv\n",
      "Chunk 9_1 written to c:\\Users\\Apprenant\\Documents\\PowerBI\\data\\conso_annul_par_adress\\output_file_9_1.csv\n"
     ]
    },
    {
     "name": "stderr",
     "output_type": "stream",
     "text": [
      "C:\\Users\\Apprenant\\AppData\\Local\\Temp\\ipykernel_18076\\3319699563.py:13: DtypeWarning: Columns (1) have mixed types. Specify dtype option on import or set low_memory=False.\n",
      "  for i, chunk in enumerate(chunks):\n"
     ]
    },
    {
     "name": "stdout",
     "output_type": "stream",
     "text": [
      "Chunk 10_0 written to c:\\Users\\Apprenant\\Documents\\PowerBI\\data\\conso_annul_par_adress\\output_file_10_0.csv\n",
      "Chunk 10_1 written to c:\\Users\\Apprenant\\Documents\\PowerBI\\data\\conso_annul_par_adress\\output_file_10_1.csv\n"
     ]
    },
    {
     "name": "stderr",
     "output_type": "stream",
     "text": [
      "C:\\Users\\Apprenant\\AppData\\Local\\Temp\\ipykernel_18076\\3319699563.py:13: DtypeWarning: Columns (1) have mixed types. Specify dtype option on import or set low_memory=False.\n",
      "  for i, chunk in enumerate(chunks):\n"
     ]
    },
    {
     "name": "stdout",
     "output_type": "stream",
     "text": [
      "Chunk 11_0 written to c:\\Users\\Apprenant\\Documents\\PowerBI\\data\\conso_annul_par_adress\\output_file_11_0.csv\n",
      "Chunk 11_1 written to c:\\Users\\Apprenant\\Documents\\PowerBI\\data\\conso_annul_par_adress\\output_file_11_1.csv\n",
      "Chunk 12_0 written to c:\\Users\\Apprenant\\Documents\\PowerBI\\data\\conso_annul_par_adress\\output_file_12_0.csv\n",
      "Chunk 12_1 written to c:\\Users\\Apprenant\\Documents\\PowerBI\\data\\conso_annul_par_adress\\output_file_12_1.csv\n",
      "Chunk 13_0 written to c:\\Users\\Apprenant\\Documents\\PowerBI\\data\\conso_annul_par_adress\\output_file_13_0.csv\n",
      "Chunk 13_1 written to c:\\Users\\Apprenant\\Documents\\PowerBI\\data\\conso_annul_par_adress\\output_file_13_1.csv\n"
     ]
    },
    {
     "name": "stderr",
     "output_type": "stream",
     "text": [
      "C:\\Users\\Apprenant\\AppData\\Local\\Temp\\ipykernel_18076\\3319699563.py:13: DtypeWarning: Columns (1) have mixed types. Specify dtype option on import or set low_memory=False.\n",
      "  for i, chunk in enumerate(chunks):\n"
     ]
    },
    {
     "name": "stdout",
     "output_type": "stream",
     "text": [
      "Chunk 14_0 written to c:\\Users\\Apprenant\\Documents\\PowerBI\\data\\conso_annul_par_adress\\output_file_14_0.csv\n",
      "Chunk 14_1 written to c:\\Users\\Apprenant\\Documents\\PowerBI\\data\\conso_annul_par_adress\\output_file_14_1.csv\n",
      "Chunk 15_0 written to c:\\Users\\Apprenant\\Documents\\PowerBI\\data\\conso_annul_par_adress\\output_file_15_0.csv\n",
      "Chunk 15_1 written to c:\\Users\\Apprenant\\Documents\\PowerBI\\data\\conso_annul_par_adress\\output_file_15_1.csv\n",
      "Chunk 16_0 written to c:\\Users\\Apprenant\\Documents\\PowerBI\\data\\conso_annul_par_adress\\output_file_16_0.csv\n"
     ]
    }
   ],
   "source": [
    "import pandas as pd\n",
    "import os\n",
    "import numpy as np\n",
    "\n",
    "# Set the maximum file size in bytes\n",
    "max_size = 50 * 1024 * 1024\n",
    "\n",
    "# Read the CSV file into a DataFrame\n",
    "df = pd.read_csv(\"consommation-annuelle-residentielle-par-adresse.csv\", sep=\";\")\n",
    "\n",
    "# Split the DataFrame into chunks with a maximum size of max_size bytes\n",
    "chunks = pd.read_csv(\"consommation-annuelle-residentielle-par-adresse.csv\", sep=\";\", chunksize=100000)\n",
    "for i, chunk in enumerate(chunks):\n",
    "    # Calculate the size of the chunk\n",
    "    size = chunk.memory_usage(deep=True).sum()\n",
    "    # Split the chunk into smaller chunks if its size exceeds the maximum size\n",
    "    if size > max_size:\n",
    "        sub_chunks = np.array_split(chunk, np.ceil(size / max_size))\n",
    "    else:\n",
    "        sub_chunks = [chunk]\n",
    "    # Write each sub-chunk to a separate CSV file\n",
    "    for j, sub_chunk in enumerate(sub_chunks):\n",
    "        output_file = f\"data/conso_annul_par_adress/output_file_{i}_{j}.csv\"\n",
    "        sub_chunk.to_csv(output_file, index=False)\n",
    "        print(f\"Chunk {i}_{j} written to {os.path.abspath(output_file)}\")\n"
   ]
  },
  {
   "cell_type": "code",
   "execution_count": null,
   "metadata": {},
   "outputs": [],
   "source": []
  }
 ],
 "metadata": {
  "kernelspec": {
   "display_name": "powerbi",
   "language": "python",
   "name": "python3"
  },
  "language_info": {
   "codemirror_mode": {
    "name": "ipython",
    "version": 3
   },
   "file_extension": ".py",
   "mimetype": "text/x-python",
   "name": "python",
   "nbconvert_exporter": "python",
   "pygments_lexer": "ipython3",
   "version": "3.11.2"
  },
  "orig_nbformat": 4
 },
 "nbformat": 4,
 "nbformat_minor": 2
}
