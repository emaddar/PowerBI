{
 "cells": [
  {
   "cell_type": "code",
   "execution_count": 2,
   "metadata": {},
   "outputs": [],
   "source": [
    "import pandas as pd\n"
   ]
  },
  {
   "cell_type": "code",
   "execution_count": 3,
   "metadata": {},
   "outputs": [],
   "source": [
    "data = pd.read_csv(\"consommation-annuelle-residentielle-par-adresse.csv\", sep=\";\")\n"
   ]
  },
  {
   "cell_type": "code",
   "execution_count": 12,
   "metadata": {},
   "outputs": [
    {
     "name": "stdout",
     "output_type": "stream",
     "text": [
      "<class 'pandas.core.frame.DataFrame'>\n",
      "RangeIndex: 1603548 entries, 0 to 1603547\n",
      "Data columns (total 16 columns):\n",
      " #   Column                                                         Non-Null Count    Dtype  \n",
      "---  ------                                                         --------------    -----  \n",
      " 0   Année                                                          1603548 non-null  int64  \n",
      " 1   Code IRIS                                                      1603548 non-null  object \n",
      " 2   Nom IRIS                                                       1603548 non-null  object \n",
      " 3   Numéro de voie                                                 1603545 non-null  float64\n",
      " 4   Indice de répétition                                           86548 non-null    object \n",
      " 5   Type de voie                                                   1596634 non-null  object \n",
      " 6   Libellé de voie                                                1603548 non-null  object \n",
      " 7   Code INSEE de la commune                                       1603548 non-null  int64  \n",
      " 8   Nom de la commune                                              1603490 non-null  object \n",
      " 9   Segment de client                                              1603548 non-null  object \n",
      " 10  Nombre de logements                                            1603548 non-null  int64  \n",
      " 11  Consommation annuelle totale de l'adresse (MWh)                1603548 non-null  float64\n",
      " 12  Consommation annuelle moyenne par logement de l'adresse (MWh)  1603548 non-null  float64\n",
      " 13  Consommation annuelle moyenne de la commune (MWh)              1603548 non-null  float64\n",
      " 14  Adresse                                                        1603548 non-null  object \n",
      " 15  Tri des adresses                                               1603548 non-null  int64  \n",
      "dtypes: float64(4), int64(4), object(8)\n",
      "memory usage: 195.7+ MB\n"
     ]
    }
   ],
   "source": [
    "data.info()"
   ]
  },
  {
   "attachments": {},
   "cell_type": "markdown",
   "metadata": {},
   "source": [
    "###  split the DataFrame into several CSV files with a maximum size of 50 MB"
   ]
  },
  {
   "cell_type": "code",
   "execution_count": 3,
   "metadata": {},
   "outputs": [
    {
     "name": "stdout",
     "output_type": "stream",
     "text": [
      "Chunk 0_0 written to c:\\Users\\Apprenant\\Documents\\PowerBI\\data\\conso_annul_par_adress\\output_file_0_0.csv\n",
      "Chunk 0_1 written to c:\\Users\\Apprenant\\Documents\\PowerBI\\data\\conso_annul_par_adress\\output_file_0_1.csv\n"
     ]
    },
    {
     "name": "stderr",
     "output_type": "stream",
     "text": [
      "C:\\Users\\Apprenant\\AppData\\Local\\Temp\\ipykernel_18076\\2880028628.py:13: DtypeWarning: Columns (1) have mixed types. Specify dtype option on import or set low_memory=False.\n",
      "  for i, chunk in enumerate(chunks):\n"
     ]
    },
    {
     "name": "stdout",
     "output_type": "stream",
     "text": [
      "Chunk 1_0 written to c:\\Users\\Apprenant\\Documents\\PowerBI\\data\\conso_annul_par_adress\\output_file_1_0.csv\n",
      "Chunk 1_1 written to c:\\Users\\Apprenant\\Documents\\PowerBI\\data\\conso_annul_par_adress\\output_file_1_1.csv\n"
     ]
    },
    {
     "name": "stderr",
     "output_type": "stream",
     "text": [
      "C:\\Users\\Apprenant\\AppData\\Local\\Temp\\ipykernel_18076\\2880028628.py:13: DtypeWarning: Columns (1) have mixed types. Specify dtype option on import or set low_memory=False.\n",
      "  for i, chunk in enumerate(chunks):\n"
     ]
    },
    {
     "name": "stdout",
     "output_type": "stream",
     "text": [
      "Chunk 2_0 written to c:\\Users\\Apprenant\\Documents\\PowerBI\\data\\conso_annul_par_adress\\output_file_2_0.csv\n",
      "Chunk 2_1 written to c:\\Users\\Apprenant\\Documents\\PowerBI\\data\\conso_annul_par_adress\\output_file_2_1.csv\n"
     ]
    },
    {
     "name": "stderr",
     "output_type": "stream",
     "text": [
      "C:\\Users\\Apprenant\\AppData\\Local\\Temp\\ipykernel_18076\\2880028628.py:13: DtypeWarning: Columns (1) have mixed types. Specify dtype option on import or set low_memory=False.\n",
      "  for i, chunk in enumerate(chunks):\n"
     ]
    },
    {
     "name": "stdout",
     "output_type": "stream",
     "text": [
      "Chunk 3_0 written to c:\\Users\\Apprenant\\Documents\\PowerBI\\data\\conso_annul_par_adress\\output_file_3_0.csv\n",
      "Chunk 3_1 written to c:\\Users\\Apprenant\\Documents\\PowerBI\\data\\conso_annul_par_adress\\output_file_3_1.csv\n"
     ]
    },
    {
     "name": "stderr",
     "output_type": "stream",
     "text": [
      "C:\\Users\\Apprenant\\AppData\\Local\\Temp\\ipykernel_18076\\2880028628.py:13: DtypeWarning: Columns (1) have mixed types. Specify dtype option on import or set low_memory=False.\n",
      "  for i, chunk in enumerate(chunks):\n"
     ]
    },
    {
     "name": "stdout",
     "output_type": "stream",
     "text": [
      "Chunk 4_0 written to c:\\Users\\Apprenant\\Documents\\PowerBI\\data\\conso_annul_par_adress\\output_file_4_0.csv\n",
      "Chunk 4_1 written to c:\\Users\\Apprenant\\Documents\\PowerBI\\data\\conso_annul_par_adress\\output_file_4_1.csv\n"
     ]
    },
    {
     "name": "stderr",
     "output_type": "stream",
     "text": [
      "C:\\Users\\Apprenant\\AppData\\Local\\Temp\\ipykernel_18076\\2880028628.py:13: DtypeWarning: Columns (1) have mixed types. Specify dtype option on import or set low_memory=False.\n",
      "  for i, chunk in enumerate(chunks):\n"
     ]
    },
    {
     "name": "stdout",
     "output_type": "stream",
     "text": [
      "Chunk 5_0 written to c:\\Users\\Apprenant\\Documents\\PowerBI\\data\\conso_annul_par_adress\\output_file_5_0.csv\n",
      "Chunk 5_1 written to c:\\Users\\Apprenant\\Documents\\PowerBI\\data\\conso_annul_par_adress\\output_file_5_1.csv\n"
     ]
    },
    {
     "name": "stderr",
     "output_type": "stream",
     "text": [
      "C:\\Users\\Apprenant\\AppData\\Local\\Temp\\ipykernel_18076\\2880028628.py:13: DtypeWarning: Columns (1) have mixed types. Specify dtype option on import or set low_memory=False.\n",
      "  for i, chunk in enumerate(chunks):\n"
     ]
    },
    {
     "name": "stdout",
     "output_type": "stream",
     "text": [
      "Chunk 6_0 written to c:\\Users\\Apprenant\\Documents\\PowerBI\\data\\conso_annul_par_adress\\output_file_6_0.csv\n",
      "Chunk 6_1 written to c:\\Users\\Apprenant\\Documents\\PowerBI\\data\\conso_annul_par_adress\\output_file_6_1.csv\n"
     ]
    },
    {
     "name": "stderr",
     "output_type": "stream",
     "text": [
      "C:\\Users\\Apprenant\\AppData\\Local\\Temp\\ipykernel_18076\\2880028628.py:13: DtypeWarning: Columns (1) have mixed types. Specify dtype option on import or set low_memory=False.\n",
      "  for i, chunk in enumerate(chunks):\n"
     ]
    },
    {
     "name": "stdout",
     "output_type": "stream",
     "text": [
      "Chunk 7_0 written to c:\\Users\\Apprenant\\Documents\\PowerBI\\data\\conso_annul_par_adress\\output_file_7_0.csv\n",
      "Chunk 7_1 written to c:\\Users\\Apprenant\\Documents\\PowerBI\\data\\conso_annul_par_adress\\output_file_7_1.csv\n"
     ]
    },
    {
     "name": "stderr",
     "output_type": "stream",
     "text": [
      "C:\\Users\\Apprenant\\AppData\\Local\\Temp\\ipykernel_18076\\2880028628.py:13: DtypeWarning: Columns (1) have mixed types. Specify dtype option on import or set low_memory=False.\n",
      "  for i, chunk in enumerate(chunks):\n"
     ]
    },
    {
     "name": "stdout",
     "output_type": "stream",
     "text": [
      "Chunk 8_0 written to c:\\Users\\Apprenant\\Documents\\PowerBI\\data\\conso_annul_par_adress\\output_file_8_0.csv\n",
      "Chunk 8_1 written to c:\\Users\\Apprenant\\Documents\\PowerBI\\data\\conso_annul_par_adress\\output_file_8_1.csv\n"
     ]
    },
    {
     "name": "stderr",
     "output_type": "stream",
     "text": [
      "C:\\Users\\Apprenant\\AppData\\Local\\Temp\\ipykernel_18076\\2880028628.py:13: DtypeWarning: Columns (1) have mixed types. Specify dtype option on import or set low_memory=False.\n",
      "  for i, chunk in enumerate(chunks):\n"
     ]
    },
    {
     "name": "stdout",
     "output_type": "stream",
     "text": [
      "Chunk 9_0 written to c:\\Users\\Apprenant\\Documents\\PowerBI\\data\\conso_annul_par_adress\\output_file_9_0.csv\n",
      "Chunk 9_1 written to c:\\Users\\Apprenant\\Documents\\PowerBI\\data\\conso_annul_par_adress\\output_file_9_1.csv\n"
     ]
    },
    {
     "name": "stderr",
     "output_type": "stream",
     "text": [
      "C:\\Users\\Apprenant\\AppData\\Local\\Temp\\ipykernel_18076\\2880028628.py:13: DtypeWarning: Columns (1) have mixed types. Specify dtype option on import or set low_memory=False.\n",
      "  for i, chunk in enumerate(chunks):\n"
     ]
    },
    {
     "name": "stdout",
     "output_type": "stream",
     "text": [
      "Chunk 10_0 written to c:\\Users\\Apprenant\\Documents\\PowerBI\\data\\conso_annul_par_adress\\output_file_10_0.csv\n",
      "Chunk 10_1 written to c:\\Users\\Apprenant\\Documents\\PowerBI\\data\\conso_annul_par_adress\\output_file_10_1.csv\n"
     ]
    },
    {
     "name": "stderr",
     "output_type": "stream",
     "text": [
      "C:\\Users\\Apprenant\\AppData\\Local\\Temp\\ipykernel_18076\\2880028628.py:13: DtypeWarning: Columns (1) have mixed types. Specify dtype option on import or set low_memory=False.\n",
      "  for i, chunk in enumerate(chunks):\n"
     ]
    },
    {
     "name": "stdout",
     "output_type": "stream",
     "text": [
      "Chunk 11_0 written to c:\\Users\\Apprenant\\Documents\\PowerBI\\data\\conso_annul_par_adress\\output_file_11_0.csv\n",
      "Chunk 11_1 written to c:\\Users\\Apprenant\\Documents\\PowerBI\\data\\conso_annul_par_adress\\output_file_11_1.csv\n",
      "Chunk 12_0 written to c:\\Users\\Apprenant\\Documents\\PowerBI\\data\\conso_annul_par_adress\\output_file_12_0.csv\n",
      "Chunk 12_1 written to c:\\Users\\Apprenant\\Documents\\PowerBI\\data\\conso_annul_par_adress\\output_file_12_1.csv\n",
      "Chunk 13_0 written to c:\\Users\\Apprenant\\Documents\\PowerBI\\data\\conso_annul_par_adress\\output_file_13_0.csv\n",
      "Chunk 13_1 written to c:\\Users\\Apprenant\\Documents\\PowerBI\\data\\conso_annul_par_adress\\output_file_13_1.csv\n"
     ]
    },
    {
     "name": "stderr",
     "output_type": "stream",
     "text": [
      "C:\\Users\\Apprenant\\AppData\\Local\\Temp\\ipykernel_18076\\2880028628.py:13: DtypeWarning: Columns (1) have mixed types. Specify dtype option on import or set low_memory=False.\n",
      "  for i, chunk in enumerate(chunks):\n"
     ]
    },
    {
     "name": "stdout",
     "output_type": "stream",
     "text": [
      "Chunk 14_0 written to c:\\Users\\Apprenant\\Documents\\PowerBI\\data\\conso_annul_par_adress\\output_file_14_0.csv\n",
      "Chunk 14_1 written to c:\\Users\\Apprenant\\Documents\\PowerBI\\data\\conso_annul_par_adress\\output_file_14_1.csv\n",
      "Chunk 15_0 written to c:\\Users\\Apprenant\\Documents\\PowerBI\\data\\conso_annul_par_adress\\output_file_15_0.csv\n",
      "Chunk 15_1 written to c:\\Users\\Apprenant\\Documents\\PowerBI\\data\\conso_annul_par_adress\\output_file_15_1.csv\n",
      "Chunk 16_0 written to c:\\Users\\Apprenant\\Documents\\PowerBI\\data\\conso_annul_par_adress\\output_file_16_0.csv\n"
     ]
    }
   ],
   "source": [
    "import pandas as pd\n",
    "import os\n",
    "import numpy as np\n",
    "\n",
    "# Set the maximum file size in bytes\n",
    "max_size = 40 * 1024 * 1024\n",
    "\n",
    "# Read the CSV file into a DataFrame\n",
    "df = pd.read_csv(\"consommation-annuelle-residentielle-par-adresse.csv\", sep=\";\")\n",
    "\n",
    "# Split the DataFrame into chunks with a maximum size of max_size bytes\n",
    "chunks = pd.read_csv(\"consommation-annuelle-residentielle-par-adresse.csv\", sep=\";\", chunksize=100000)\n",
    "for i, chunk in enumerate(chunks):\n",
    "    # Calculate the size of the chunk\n",
    "    size = chunk.memory_usage(deep=True).sum()\n",
    "    # Split the chunk into smaller chunks if its size exceeds the maximum size\n",
    "    if size > max_size:\n",
    "        sub_chunks = np.array_split(chunk, np.ceil(size / max_size))\n",
    "    else:\n",
    "        sub_chunks = [chunk]\n",
    "    # Write each sub-chunk to a separate CSV file\n",
    "    for j, sub_chunk in enumerate(sub_chunks):\n",
    "        output_file = f\"data/conso_annul_par_adress/output_file_{i}_{j}.csv\"\n",
    "        sub_chunk.to_csv(output_file, index=False)\n",
    "        print(f\"Chunk {i}_{j} written to {os.path.abspath(output_file)}\")\n"
   ]
  },
  {
   "attachments": {},
   "cell_type": "markdown",
   "metadata": {},
   "source": [
    "### read and combine all these csv"
   ]
  },
  {
   "cell_type": "code",
   "execution_count": 6,
   "metadata": {},
   "outputs": [
    {
     "name": "stderr",
     "output_type": "stream",
     "text": [
      "C:\\Users\\Apprenant\\AppData\\Local\\Temp\\ipykernel_18076\\3560942635.py:10: DtypeWarning: Columns (1) have mixed types. Specify dtype option on import or set low_memory=False.\n",
      "  df = pd.read_csv(os.path.join(\"data/conso_annul_par_adress\", file), sep=\",\")\n",
      "C:\\Users\\Apprenant\\AppData\\Local\\Temp\\ipykernel_18076\\3560942635.py:10: DtypeWarning: Columns (1) have mixed types. Specify dtype option on import or set low_memory=False.\n",
      "  df = pd.read_csv(os.path.join(\"data/conso_annul_par_adress\", file), sep=\",\")\n"
     ]
    },
    {
     "name": "stdout",
     "output_type": "stream",
     "text": [
      "Combined data frame has 1603548 rows and 16 columns.\n"
     ]
    }
   ],
   "source": [
    "import pandas as pd\n",
    "import os\n",
    "\n",
    "# Create an empty list to hold the individual data frames\n",
    "dfs = []\n",
    "\n",
    "# Loop through each CSV file and read it into a data frame\n",
    "for file in os.listdir(\"data/conso_annul_par_adress\"):\n",
    "    if file.endswith(\".csv\"):\n",
    "        df = pd.read_csv(os.path.join(\"data/conso_annul_par_adress\", file), sep=\",\")\n",
    "        dfs.append(df)\n",
    "\n",
    "# Concatenate the individual data frames into a single data frame\n",
    "combined_df = pd.concat(dfs)\n",
    "\n",
    "# Print the number of rows and columns in the combined data frame\n",
    "print(f\"Combined data frame has {combined_df.shape[0]} rows and {combined_df.shape[1]} columns.\")\n"
   ]
  },
  {
   "cell_type": "code",
   "execution_count": 7,
   "metadata": {},
   "outputs": [
    {
     "data": {
      "text/html": [
       "<div>\n",
       "<style scoped>\n",
       "    .dataframe tbody tr th:only-of-type {\n",
       "        vertical-align: middle;\n",
       "    }\n",
       "\n",
       "    .dataframe tbody tr th {\n",
       "        vertical-align: top;\n",
       "    }\n",
       "\n",
       "    .dataframe thead th {\n",
       "        text-align: right;\n",
       "    }\n",
       "</style>\n",
       "<table border=\"1\" class=\"dataframe\">\n",
       "  <thead>\n",
       "    <tr style=\"text-align: right;\">\n",
       "      <th></th>\n",
       "      <th>Année</th>\n",
       "      <th>Code IRIS</th>\n",
       "      <th>Nom IRIS</th>\n",
       "      <th>Numéro de voie</th>\n",
       "      <th>Indice de répétition</th>\n",
       "      <th>Type de voie</th>\n",
       "      <th>Libellé de voie</th>\n",
       "      <th>Code INSEE de la commune</th>\n",
       "      <th>Nom de la commune</th>\n",
       "      <th>Segment de client</th>\n",
       "      <th>Nombre de logements</th>\n",
       "      <th>Consommation annuelle totale de l'adresse (MWh)</th>\n",
       "      <th>Consommation annuelle moyenne par logement de l'adresse (MWh)</th>\n",
       "      <th>Consommation annuelle moyenne de la commune (MWh)</th>\n",
       "      <th>Adresse</th>\n",
       "      <th>Tri des adresses</th>\n",
       "    </tr>\n",
       "  </thead>\n",
       "  <tbody>\n",
       "    <tr>\n",
       "      <th>0</th>\n",
       "      <td>2019</td>\n",
       "      <td>761570502</td>\n",
       "      <td>Cité Rose-Zone b</td>\n",
       "      <td>18.0</td>\n",
       "      <td>NaN</td>\n",
       "      <td>AVENUE</td>\n",
       "      <td>CHARLES GOUNOD</td>\n",
       "      <td>76157</td>\n",
       "      <td>Canteleu</td>\n",
       "      <td>RESIDENTIEL</td>\n",
       "      <td>16</td>\n",
       "      <td>26.841</td>\n",
       "      <td>1.678</td>\n",
       "      <td>2.955</td>\n",
       "      <td>18 AVENUE CHARLES GOUNOD</td>\n",
       "      <td>60004</td>\n",
       "    </tr>\n",
       "    <tr>\n",
       "      <th>1</th>\n",
       "      <td>2019</td>\n",
       "      <td>761570502</td>\n",
       "      <td>Cité Rose-Zone b</td>\n",
       "      <td>10.0</td>\n",
       "      <td>NaN</td>\n",
       "      <td>AVENUE</td>\n",
       "      <td>CHARLES GOUNOD</td>\n",
       "      <td>76157</td>\n",
       "      <td>Canteleu</td>\n",
       "      <td>RESIDENTIEL</td>\n",
       "      <td>18</td>\n",
       "      <td>26.484</td>\n",
       "      <td>1.471</td>\n",
       "      <td>2.955</td>\n",
       "      <td>10 AVENUE CHARLES GOUNOD</td>\n",
       "      <td>60008</td>\n",
       "    </tr>\n",
       "    <tr>\n",
       "      <th>2</th>\n",
       "      <td>2019</td>\n",
       "      <td>761570502</td>\n",
       "      <td>Cité Rose-Zone b</td>\n",
       "      <td>6.0</td>\n",
       "      <td>NaN</td>\n",
       "      <td>AVENUE</td>\n",
       "      <td>CHARLES GOUNOD</td>\n",
       "      <td>76157</td>\n",
       "      <td>Canteleu</td>\n",
       "      <td>RESIDENTIEL</td>\n",
       "      <td>18</td>\n",
       "      <td>45.016</td>\n",
       "      <td>2.501</td>\n",
       "      <td>2.955</td>\n",
       "      <td>6 AVENUE CHARLES GOUNOD</td>\n",
       "      <td>60011</td>\n",
       "    </tr>\n",
       "    <tr>\n",
       "      <th>3</th>\n",
       "      <td>2019</td>\n",
       "      <td>761570501</td>\n",
       "      <td>Cité Rose-Zone a</td>\n",
       "      <td>12.0</td>\n",
       "      <td>NaN</td>\n",
       "      <td>BOULEVARD</td>\n",
       "      <td>CLAUDE MONET</td>\n",
       "      <td>76157</td>\n",
       "      <td>Canteleu</td>\n",
       "      <td>RESIDENTIEL</td>\n",
       "      <td>24</td>\n",
       "      <td>39.286</td>\n",
       "      <td>1.637</td>\n",
       "      <td>2.955</td>\n",
       "      <td>12 BOULEVARD CLAUDE MONET</td>\n",
       "      <td>60019</td>\n",
       "    </tr>\n",
       "    <tr>\n",
       "      <th>4</th>\n",
       "      <td>2019</td>\n",
       "      <td>761570501</td>\n",
       "      <td>Cité Rose-Zone a</td>\n",
       "      <td>10.0</td>\n",
       "      <td>NaN</td>\n",
       "      <td>BOULEVARD</td>\n",
       "      <td>CLAUDE MONET</td>\n",
       "      <td>76157</td>\n",
       "      <td>Canteleu</td>\n",
       "      <td>RESIDENTIEL</td>\n",
       "      <td>16</td>\n",
       "      <td>25.507</td>\n",
       "      <td>1.594</td>\n",
       "      <td>2.955</td>\n",
       "      <td>10 BOULEVARD CLAUDE MONET</td>\n",
       "      <td>60020</td>\n",
       "    </tr>\n",
       "    <tr>\n",
       "      <th>...</th>\n",
       "      <td>...</td>\n",
       "      <td>...</td>\n",
       "      <td>...</td>\n",
       "      <td>...</td>\n",
       "      <td>...</td>\n",
       "      <td>...</td>\n",
       "      <td>...</td>\n",
       "      <td>...</td>\n",
       "      <td>...</td>\n",
       "      <td>...</td>\n",
       "      <td>...</td>\n",
       "      <td>...</td>\n",
       "      <td>...</td>\n",
       "      <td>...</td>\n",
       "      <td>...</td>\n",
       "      <td>...</td>\n",
       "    </tr>\n",
       "    <tr>\n",
       "      <th>49995</th>\n",
       "      <td>2018</td>\n",
       "      <td>940190108</td>\n",
       "      <td>Hauts de Chennevieres Pince Vent</td>\n",
       "      <td>9.0</td>\n",
       "      <td>NaN</td>\n",
       "      <td>ALLEE</td>\n",
       "      <td>DES BORDES</td>\n",
       "      <td>94019</td>\n",
       "      <td>CHENNEVIERES-SUR-MARNE</td>\n",
       "      <td>RESIDENTIEL</td>\n",
       "      <td>23</td>\n",
       "      <td>46.920</td>\n",
       "      <td>2.040</td>\n",
       "      <td>4.068</td>\n",
       "      <td>9 ALLEE DES BORDES</td>\n",
       "      <td>476939</td>\n",
       "    </tr>\n",
       "    <tr>\n",
       "      <th>49996</th>\n",
       "      <td>2018</td>\n",
       "      <td>940190102</td>\n",
       "      <td>Centre Ville Chateau</td>\n",
       "      <td>48.0</td>\n",
       "      <td>NaN</td>\n",
       "      <td>RUE</td>\n",
       "      <td>DU GENERAL DE GAULLE</td>\n",
       "      <td>94019</td>\n",
       "      <td>CHENNEVIERES-SUR-MARNE</td>\n",
       "      <td>RESIDENTIEL</td>\n",
       "      <td>21</td>\n",
       "      <td>174.362</td>\n",
       "      <td>8.303</td>\n",
       "      <td>4.068</td>\n",
       "      <td>48 RUE DU GENERAL DE GAULLE</td>\n",
       "      <td>476949</td>\n",
       "    </tr>\n",
       "    <tr>\n",
       "      <th>49997</th>\n",
       "      <td>2018</td>\n",
       "      <td>940190101</td>\n",
       "      <td>Le Moulin</td>\n",
       "      <td>4.0</td>\n",
       "      <td>NaN</td>\n",
       "      <td>AVENUE</td>\n",
       "      <td>EMMANUEL CHABRIER</td>\n",
       "      <td>94019</td>\n",
       "      <td>CHENNEVIERES-SUR-MARNE</td>\n",
       "      <td>RESIDENTIEL</td>\n",
       "      <td>19</td>\n",
       "      <td>28.992</td>\n",
       "      <td>1.526</td>\n",
       "      <td>4.068</td>\n",
       "      <td>4 AVENUE EMMANUEL CHABRIER</td>\n",
       "      <td>476964</td>\n",
       "    </tr>\n",
       "    <tr>\n",
       "      <th>49998</th>\n",
       "      <td>2018</td>\n",
       "      <td>940190101</td>\n",
       "      <td>Le Moulin</td>\n",
       "      <td>2.0</td>\n",
       "      <td>NaN</td>\n",
       "      <td>AVENUE</td>\n",
       "      <td>EMMANUEL CHABRIER</td>\n",
       "      <td>94019</td>\n",
       "      <td>CHENNEVIERES-SUR-MARNE</td>\n",
       "      <td>RESIDENTIEL</td>\n",
       "      <td>19</td>\n",
       "      <td>29.843</td>\n",
       "      <td>1.571</td>\n",
       "      <td>4.068</td>\n",
       "      <td>2 AVENUE EMMANUEL CHABRIER</td>\n",
       "      <td>476966</td>\n",
       "    </tr>\n",
       "    <tr>\n",
       "      <th>49999</th>\n",
       "      <td>2018</td>\n",
       "      <td>940190101</td>\n",
       "      <td>Le Moulin</td>\n",
       "      <td>4.0</td>\n",
       "      <td>NaN</td>\n",
       "      <td>AVENUE</td>\n",
       "      <td>GABRIEL FAURE</td>\n",
       "      <td>94019</td>\n",
       "      <td>CHENNEVIERES-SUR-MARNE</td>\n",
       "      <td>RESIDENTIEL</td>\n",
       "      <td>20</td>\n",
       "      <td>27.132</td>\n",
       "      <td>1.357</td>\n",
       "      <td>4.068</td>\n",
       "      <td>4 AVENUE GABRIEL FAURE</td>\n",
       "      <td>476976</td>\n",
       "    </tr>\n",
       "  </tbody>\n",
       "</table>\n",
       "<p>1603548 rows × 16 columns</p>\n",
       "</div>"
      ],
      "text/plain": [
       "       Année  Code IRIS                          Nom IRIS  Numéro de voie   \n",
       "0       2019  761570502                  Cité Rose-Zone b            18.0  \\\n",
       "1       2019  761570502                  Cité Rose-Zone b            10.0   \n",
       "2       2019  761570502                  Cité Rose-Zone b             6.0   \n",
       "3       2019  761570501                  Cité Rose-Zone a            12.0   \n",
       "4       2019  761570501                  Cité Rose-Zone a            10.0   \n",
       "...      ...        ...                               ...             ...   \n",
       "49995   2018  940190108  Hauts de Chennevieres Pince Vent             9.0   \n",
       "49996   2018  940190102              Centre Ville Chateau            48.0   \n",
       "49997   2018  940190101                         Le Moulin             4.0   \n",
       "49998   2018  940190101                         Le Moulin             2.0   \n",
       "49999   2018  940190101                         Le Moulin             4.0   \n",
       "\n",
       "      Indice de répétition Type de voie       Libellé de voie   \n",
       "0                      NaN       AVENUE        CHARLES GOUNOD  \\\n",
       "1                      NaN       AVENUE        CHARLES GOUNOD   \n",
       "2                      NaN       AVENUE        CHARLES GOUNOD   \n",
       "3                      NaN    BOULEVARD          CLAUDE MONET   \n",
       "4                      NaN    BOULEVARD          CLAUDE MONET   \n",
       "...                    ...          ...                   ...   \n",
       "49995                  NaN        ALLEE            DES BORDES   \n",
       "49996                  NaN          RUE  DU GENERAL DE GAULLE   \n",
       "49997                  NaN       AVENUE     EMMANUEL CHABRIER   \n",
       "49998                  NaN       AVENUE     EMMANUEL CHABRIER   \n",
       "49999                  NaN       AVENUE         GABRIEL FAURE   \n",
       "\n",
       "       Code INSEE de la commune       Nom de la commune Segment de client   \n",
       "0                         76157                Canteleu       RESIDENTIEL  \\\n",
       "1                         76157                Canteleu       RESIDENTIEL   \n",
       "2                         76157                Canteleu       RESIDENTIEL   \n",
       "3                         76157                Canteleu       RESIDENTIEL   \n",
       "4                         76157                Canteleu       RESIDENTIEL   \n",
       "...                         ...                     ...               ...   \n",
       "49995                     94019  CHENNEVIERES-SUR-MARNE       RESIDENTIEL   \n",
       "49996                     94019  CHENNEVIERES-SUR-MARNE       RESIDENTIEL   \n",
       "49997                     94019  CHENNEVIERES-SUR-MARNE       RESIDENTIEL   \n",
       "49998                     94019  CHENNEVIERES-SUR-MARNE       RESIDENTIEL   \n",
       "49999                     94019  CHENNEVIERES-SUR-MARNE       RESIDENTIEL   \n",
       "\n",
       "       Nombre de logements  Consommation annuelle totale de l'adresse (MWh)   \n",
       "0                       16                                           26.841  \\\n",
       "1                       18                                           26.484   \n",
       "2                       18                                           45.016   \n",
       "3                       24                                           39.286   \n",
       "4                       16                                           25.507   \n",
       "...                    ...                                              ...   \n",
       "49995                   23                                           46.920   \n",
       "49996                   21                                          174.362   \n",
       "49997                   19                                           28.992   \n",
       "49998                   19                                           29.843   \n",
       "49999                   20                                           27.132   \n",
       "\n",
       "       Consommation annuelle moyenne par logement de l'adresse (MWh)   \n",
       "0                                                  1.678              \\\n",
       "1                                                  1.471               \n",
       "2                                                  2.501               \n",
       "3                                                  1.637               \n",
       "4                                                  1.594               \n",
       "...                                                  ...               \n",
       "49995                                              2.040               \n",
       "49996                                              8.303               \n",
       "49997                                              1.526               \n",
       "49998                                              1.571               \n",
       "49999                                              1.357               \n",
       "\n",
       "       Consommation annuelle moyenne de la commune (MWh)   \n",
       "0                                                  2.955  \\\n",
       "1                                                  2.955   \n",
       "2                                                  2.955   \n",
       "3                                                  2.955   \n",
       "4                                                  2.955   \n",
       "...                                                  ...   \n",
       "49995                                              4.068   \n",
       "49996                                              4.068   \n",
       "49997                                              4.068   \n",
       "49998                                              4.068   \n",
       "49999                                              4.068   \n",
       "\n",
       "                           Adresse  Tri des adresses  \n",
       "0         18 AVENUE CHARLES GOUNOD             60004  \n",
       "1         10 AVENUE CHARLES GOUNOD             60008  \n",
       "2          6 AVENUE CHARLES GOUNOD             60011  \n",
       "3        12 BOULEVARD CLAUDE MONET             60019  \n",
       "4        10 BOULEVARD CLAUDE MONET             60020  \n",
       "...                            ...               ...  \n",
       "49995           9 ALLEE DES BORDES            476939  \n",
       "49996  48 RUE DU GENERAL DE GAULLE            476949  \n",
       "49997   4 AVENUE EMMANUEL CHABRIER            476964  \n",
       "49998   2 AVENUE EMMANUEL CHABRIER            476966  \n",
       "49999       4 AVENUE GABRIEL FAURE            476976  \n",
       "\n",
       "[1603548 rows x 16 columns]"
      ]
     },
     "execution_count": 7,
     "metadata": {},
     "output_type": "execute_result"
    }
   ],
   "source": [
    "combined_df"
   ]
  },
  {
   "cell_type": "code",
   "execution_count": null,
   "metadata": {},
   "outputs": [],
   "source": []
  }
 ],
 "metadata": {
  "kernelspec": {
   "display_name": "powerbi",
   "language": "python",
   "name": "python3"
  },
  "language_info": {
   "codemirror_mode": {
    "name": "ipython",
    "version": 3
   },
   "file_extension": ".py",
   "mimetype": "text/x-python",
   "name": "python",
   "nbconvert_exporter": "python",
   "pygments_lexer": "ipython3",
   "version": "3.11.2"
  },
  "orig_nbformat": 4
 },
 "nbformat": 4,
 "nbformat_minor": 2
}
