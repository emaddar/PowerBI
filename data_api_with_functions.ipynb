{
 "cells": [
  {
   "attachments": {},
   "cell_type": "markdown",
   "metadata": {},
   "source": [
    "![Enedis](https://www.fournisseurs-electricite.com/sites/fournisseurs-electricite.com/files/2019-12/enedis-presentation.png)"
   ]
  },
  {
   "attachments": {},
   "cell_type": "markdown",
   "metadata": {},
   "source": [
    "### Import packages"
   ]
  },
  {
   "cell_type": "code",
   "execution_count": 1,
   "metadata": {},
   "outputs": [],
   "source": [
    "import pandas as pd\n",
    "import requests\n",
    "import json\n",
    "import csv\n",
    "import datetime\n",
    "import time"
   ]
  },
  {
   "attachments": {},
   "cell_type": "markdown",
   "metadata": {},
   "source": [
    "### Create an empty csv"
   ]
  },
  {
   "cell_type": "code",
   "execution_count": 56,
   "metadata": {},
   "outputs": [],
   "source": [
    "import csv\n",
    "def create_csv():\n",
    "    header = [\"courbe_moyenne_ndeg2_wh\",\n",
    "            \"region\",\n",
    "            \"indice_representativite_courbe_ndeg1\",\n",
    "            \"indice_representativite_courbe_ndeg1_ndeg2\",\n",
    "            \"horodate\",\n",
    "            \"jour_max_du_mois_0_1\",\n",
    "            \"semaine_max_du_mois_0_1\",\n",
    "            \"profil\",\n",
    "            \"code_region\",\n",
    "            \"plage_de_puissance_souscrite\",\n",
    "            \"indice_representativite_courbe_ndeg2\",\n",
    "            \"nb_points_soutirage\",\n",
    "            \"courbe_moyenne_ndeg1_ndeg2_wh\",\n",
    "            \"total_energie_soutiree_wh\",\n",
    "            \"courbe_moyenne_ndeg1_wh\"]\n",
    "\n",
    "    with open(\"output.csv\", \"w\", newline=\"\") as csvfile:\n",
    "        writer = csv.writer(csvfile)\n",
    "        writer.writerow(header)"
   ]
  },
  {
   "attachments": {},
   "cell_type": "markdown",
   "metadata": {},
   "source": [
    "### Function to get data from API, this function will save results in the same csv created later"
   ]
  },
  {
   "cell_type": "code",
   "execution_count": 60,
   "metadata": {},
   "outputs": [],
   "source": [
    "def request_get(url):\n",
    "    # Make API request\n",
    "    response = requests.get(url)\n",
    "\n",
    "    # Check if response is successful\n",
    "    if response.status_code == 200:\n",
    "        # Parse JSON data from response\n",
    "        data = response.json()\n",
    "\n",
    "        # Open existing CSV file in write mode\n",
    "        with open('output.csv', mode='a', newline='') as csv_file:\n",
    "            # Create CSV writer object\n",
    "            writer = csv.writer(csv_file)\n",
    "\n",
    "            # Write data to CSV file\n",
    "            for item in data['records']:\n",
    "                    try:\n",
    "                        courbe_moyenne_ndeg2_wh = item['fields']['courbe_moyenne_ndeg2_wh']\n",
    "                    except:\n",
    "                        courbe_moyenne_ndeg2_wh = None\n",
    "\n",
    "                    try:\n",
    "                        region = item['fields']['region']\n",
    "                    except:\n",
    "                        region = None\n",
    "\n",
    "                    try:\n",
    "                        indice_representativite_courbe_ndeg1 = item['fields']['indice_representativite_courbe_ndeg1']\n",
    "                    except:\n",
    "                        indice_representativite_courbe_ndeg1 = None\n",
    "\n",
    "                    try:\n",
    "                        indice_representativite_courbe_ndeg1_ndeg2 = item['fields']['indice_representativite_courbe_ndeg1_ndeg2']\n",
    "                    except:\n",
    "                        indice_representativite_courbe_ndeg1_ndeg2 = None\n",
    "\n",
    "                    try:\n",
    "                        horodate = item['fields']['horodate']\n",
    "                    except:\n",
    "                        horodate = None\n",
    "\n",
    "                    try:\n",
    "                        jour_max_du_mois_0_1 = item['fields']['jour_max_du_mois_0_1']\n",
    "                    except:\n",
    "                        jour_max_du_mois_0_1 = None\n",
    "\n",
    "                    try:\n",
    "                        semaine_max_du_mois_0_1 = item['fields']['semaine_max_du_mois_0_1']\n",
    "                    except:\n",
    "                        semaine_max_du_mois_0_1 = None\n",
    "\n",
    "                    try:\n",
    "                        profil = item['fields']['profil']\n",
    "                    except:\n",
    "                        profil = None\n",
    "\n",
    "                    try:\n",
    "                        code_region = item['fields']['code_region']\n",
    "                    except:\n",
    "                        code_region = None\n",
    "\n",
    "                    try:\n",
    "                        plage_de_puissance_souscrite = item['fields']['plage_de_puissance_souscrite']\n",
    "                    except:\n",
    "                        plage_de_puissance_souscrite = None\n",
    "\n",
    "                    try:\n",
    "                        indice_representativite_courbe_ndeg2 = item['fields']['indice_representativite_courbe_ndeg2']\n",
    "                    except:\n",
    "                        indice_representativite_courbe_ndeg2 = None\n",
    "\n",
    "                    try:\n",
    "                        nb_points_soutirage = item['fields']['nb_points_soutirage']\n",
    "                    except:\n",
    "                        nb_points_soutirage = None\n",
    "\n",
    "                    try:\n",
    "                        courbe_moyenne_ndeg1_ndeg2_wh = item['fields']['courbe_moyenne_ndeg1_ndeg2_wh']\n",
    "                    except:\n",
    "                        courbe_moyenne_ndeg1_ndeg2_wh = None\n",
    "\n",
    "                    try:\n",
    "                        total_energie_soutiree_wh = item['fields']['total_energie_soutiree_wh']\n",
    "                    except:\n",
    "                        total_energie_soutiree_wh   = None\n",
    "\n",
    "                    try:\n",
    "                        courbe_moyenne_ndeg1_wh = item['fields']['courbe_moyenne_ndeg1_wh']\n",
    "                    except:\n",
    "                        courbe_moyenne_ndeg1_wh = None                                     \n",
    "\n",
    "\n",
    "                    writer.writerow([ courbe_moyenne_ndeg2_wh,    region,    indice_representativite_courbe_ndeg1,    indice_representativite_courbe_ndeg1_ndeg2,    horodate,    jour_max_du_mois_0_1,    semaine_max_du_mois_0_1,    profil,    code_region,    plage_de_puissance_souscrite,    indice_representativite_courbe_ndeg2,    nb_points_soutirage,    courbe_moyenne_ndeg1_ndeg2_wh,    total_energie_soutiree_wh,    courbe_moyenne_ndeg1_wh])\n",
    "    else:\n",
    "        print('API request failed with status code', response.status_code)\n"
   ]
  },
  {
   "attachments": {},
   "cell_type": "markdown",
   "metadata": {},
   "source": [
    "## Main function\n",
    "\n",
    "- Call function to create csv\n",
    "- Loop over date and hour\n",
    "- Call API\n",
    "- Save results to the same csv"
   ]
  },
  {
   "cell_type": "code",
   "execution_count": null,
   "metadata": {},
   "outputs": [],
   "source": [
    "\n",
    "create_csv()\n",
    "\n",
    "base_url = \"https://data.enedis.fr/api/records/1.0/search/?dataset=conso-inf36-region&q={}&rows=-1&facet=horodate&facet=region&facet=profil&facet=plage_de_puissance_souscrite&facet=indice_representativite_courbe_ndeg1&facet=indice_representativite_courbe_ndeg2&facet=indice_representativite_courbe_ndeg1_ndeg2&facet=jour_max_du_mois_0_1&facet=semaine_max_du_mois_0_1\"\n",
    "\n",
    "start_date = datetime.date(2020, 1, 1)\n",
    "end_date = datetime.date(2020, 12, 31)\n",
    "delta = datetime.timedelta(hours=1)\n",
    "\n",
    "current_date = start_date\n",
    "while current_date <= end_date:\n",
    "    current_hour = datetime.datetime.combine(current_date, datetime.time.min)\n",
    "    while current_hour <= datetime.datetime.combine(current_date, datetime.time.max):\n",
    "        query_string = \"horodate%3A%5B{}Z+TO+{}Z%5D\".format(current_hour.isoformat(), (current_hour+delta).isoformat())\n",
    "        url = base_url.format(query_string)\n",
    "        \n",
    "        \n",
    "        \n",
    "        request_get(url)\n",
    "\n",
    "\n",
    "\n",
    "        print(f\"Done: {current_hour}\")\n",
    "        # process the response as needed\n",
    "        time.sleep(0.5)\n",
    "        current_hour += delta\n",
    "\n",
    "\n",
    "    time.sleep(0.5)\n",
    "    current_date += datetime.timedelta(days=1)"
   ]
  },
  {
   "attachments": {},
   "cell_type": "markdown",
   "metadata": {},
   "source": [
    "### Read data"
   ]
  },
  {
   "cell_type": "code",
   "execution_count": null,
   "metadata": {},
   "outputs": [],
   "source": [
    "data = pd.read_csv(\"data/consommation_electrique/output_2022.csv\")"
   ]
  },
  {
   "attachments": {},
   "cell_type": "markdown",
   "metadata": {},
   "source": [
    "### Split data to mutilple csv by day"
   ]
  },
  {
   "cell_type": "code",
   "execution_count": null,
   "metadata": {},
   "outputs": [],
   "source": [
    "# Convert the horodate column to a datetime object\n",
    "data['horodate'] = pd.to_datetime(data['horodate'])\n",
    "\n",
    "# Group the data by the horodate column\n",
    "groups = data.groupby(pd.Grouper(key='horodate', freq='D'))\n",
    "\n",
    "# Loop through the groups and write each group to a separate CSV file\n",
    "for name, group in groups:\n",
    "    filename = 'data/consommation_electrique/' + name.strftime('%Y-%m-%d') + '.csv'\n",
    "    group.to_csv(filename, index=False)\n"
   ]
  }
 ],
 "metadata": {
  "kernelspec": {
   "display_name": "powerbi",
   "language": "python",
   "name": "python3"
  },
  "language_info": {
   "codemirror_mode": {
    "name": "ipython",
    "version": 3
   },
   "file_extension": ".py",
   "mimetype": "text/x-python",
   "name": "python",
   "nbconvert_exporter": "python",
   "pygments_lexer": "ipython3",
   "version": "3.11.3"
  },
  "orig_nbformat": 4
 },
 "nbformat": 4,
 "nbformat_minor": 2
}
