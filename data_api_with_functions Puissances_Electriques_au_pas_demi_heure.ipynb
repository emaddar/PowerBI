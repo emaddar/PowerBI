{
 "cells": [
  {
   "attachments": {},
   "cell_type": "markdown",
   "metadata": {},
   "source": [
    "![Enedis](https://www.fournisseurs-electricite.com/sites/fournisseurs-electricite.com/files/2019-12/enedis-presentation.png)"
   ]
  },
  {
   "attachments": {},
   "cell_type": "markdown",
   "metadata": {},
   "source": [
    "### Import packages"
   ]
  },
  {
   "cell_type": "code",
   "execution_count": 5,
   "metadata": {},
   "outputs": [],
   "source": [
    "import pandas as pd\n",
    "import requests\n",
    "import json\n",
    "import csv\n",
    "import datetime\n",
    "import time"
   ]
  },
  {
   "attachments": {},
   "cell_type": "markdown",
   "metadata": {},
   "source": [
    "### Create an empty csv"
   ]
  },
  {
   "cell_type": "code",
   "execution_count": 18,
   "metadata": {},
   "outputs": [],
   "source": [
    "import csv\n",
    "def create_csv():\n",
    "    header = [\"horodate\",\n",
    "    \"mois\",\n",
    "    \"injection_rte\",\n",
    "    \"soutirage_rte\",\n",
    "    \"pertes\",\n",
    "    \"consommation_totale\",\n",
    "    \"consommation_telerelevee\",\n",
    "    \"consommation_telerelevee_hta\",\n",
    "    \"consommation_profilee\",\n",
    "    \"consommation_profilee_ent_hta\",\n",
    "    \"consommation_profilee_ent_bt\",\n",
    "    \"consommation_profilee_pro\",\n",
    "    \"consommation_profilee_res\",\n",
    "    \"production_totale\",\n",
    "    \"production_telerelevee\",\n",
    "    \"production_profilee\",\n",
    "    \"production_profilee_photovoltaique\",\n",
    "    \"production_profilee_aut\",\n",
    "    \"temperature_reelle_lissee\",\n",
    "    \"temperature_normale_lissee\",\n",
    "    \"production_eolien\",\n",
    "    \"production_photovoltaique\",\n",
    "    \"pseudo_rayonnement\",\n",
    "    \"consommation_hta\",\n",
    "    \"soutirage_vers_autres_grd\"]\n",
    "\n",
    "    with open(\"Puissances_Electriques_au_pas_demi_heure_from_29_4_2023.csv\", \"w\", newline=\"\") as csvfile:\n",
    "        writer = csv.writer(csvfile)\n",
    "        writer.writerow(header)"
   ]
  },
  {
   "attachments": {},
   "cell_type": "markdown",
   "metadata": {},
   "source": [
    "### Function to get data from API, this function will save results in the same csv created later"
   ]
  },
  {
   "cell_type": "code",
   "execution_count": 2,
   "metadata": {},
   "outputs": [],
   "source": [
    "json_columns = [\n",
    "    \"horodate\",\n",
    "    \"mois\",\n",
    "    \"injection_rte\",\n",
    "    \"soutirage_rte\",\n",
    "    \"pertes\",\n",
    "    \"consommation_totale\",\n",
    "    \"consommation_telerelevee\",\n",
    "    \"consommation_telerelevee_hta\",\n",
    "    \"consommation_profilee\",\n",
    "    \"consommation_profilee_ent_hta\",\n",
    "    \"consommation_profilee_ent_bt\",\n",
    "    \"consommation_profilee_pro\",\n",
    "    \"consommation_profilee_res\",\n",
    "    \"production_totale\",\n",
    "    \"production_telerelevee\",\n",
    "    \"production_profilee\",\n",
    "    \"production_profilee_photovoltaique\",\n",
    "    \"production_profilee_aut\",\n",
    "    \"temperature_reelle_lissee\",\n",
    "    \"temperature_normale_lissee\",\n",
    "    \"production_eolien\",\n",
    "    \"production_photovoltaique\",\n",
    "    \"pseudo_rayonnement\",\n",
    "    \"consommation_hta\",\n",
    "    \"soutirage_vers_autres_grd\"\n",
    "]\n"
   ]
  },
  {
   "cell_type": "code",
   "execution_count": 19,
   "metadata": {},
   "outputs": [],
   "source": [
    "def request_get(url):\n",
    "    # Make API request\n",
    "    response = requests.get(url)\n",
    "\n",
    "    # Check if response is successful\n",
    "    if response.status_code == 200:\n",
    "        # Parse JSON data from response\n",
    "        data = response.json()\n",
    "\n",
    "        # Open existing CSV file in write mode\n",
    "        with open('Puissances_Electriques_au_pas_demi_heure_from_29_4_2023.csv', mode='a', newline='') as csv_file:\n",
    "            # Create CSV writer object\n",
    "            writer = csv.writer(csv_file)\n",
    "\n",
    "            # Write data to CSV file\n",
    "            for item in data['records']:\n",
    "                row = []\n",
    "                for col_name in json_columns:\n",
    "                    try:\n",
    "                        col_value = item['fields'][col_name]\n",
    "                    except:\n",
    "                        col_value = None\n",
    "                    row.append(col_value)\n",
    "                writer.writerow(row)\n",
    "    else:\n",
    "        print('API request failed with status code', response.status_code)\n"
   ]
  },
  {
   "attachments": {},
   "cell_type": "markdown",
   "metadata": {},
   "source": [
    "## Main function\n",
    "\n",
    "- Call function to create csv\n",
    "- Loop over date and hour\n",
    "- Call API\n",
    "- Save results to the same csv"
   ]
  },
  {
   "cell_type": "code",
   "execution_count": 21,
   "metadata": {},
   "outputs": [
    {
     "name": "stdout",
     "output_type": "stream",
     "text": [
      "Done: 2023-04-29 00:00:00\n",
      "Done: 2023-04-30 00:00:00\n",
      "Done: 2023-05-01 00:00:00\n",
      "Done: 2023-05-02 00:00:00\n",
      "Done: 2023-05-03 00:00:00\n",
      "Done: 2023-05-04 00:00:00\n",
      "Done: 2023-05-05 00:00:00\n",
      "Done: 2023-05-06 00:00:00\n",
      "Done: 2023-05-07 00:00:00\n",
      "Done: 2023-05-08 00:00:00\n",
      "Done: 2023-05-09 00:00:00\n",
      "Done: 2023-05-10 00:00:00\n",
      "Done: 2023-05-11 00:00:00\n",
      "Done: 2023-05-12 00:00:00\n"
     ]
    }
   ],
   "source": [
    "\n",
    "create_csv()\n",
    "\n",
    "base_url = \"https://data.enedis.fr/api/records/1.0/search/?dataset=bilan-electrique-demi-heure&q={}&rows=-1&facet=horodate&facet=region&facet=profil&facet=plage_de_puissance_souscrite&facet=indice_representativite_courbe_ndeg1&facet=indice_representativite_courbe_ndeg2&facet=indice_representativite_courbe_ndeg1_ndeg2&facet=jour_max_du_mois_0_1&facet=semaine_max_du_mois_0_1\"\n",
    "\n",
    "start_date = datetime.date(2023, 4, 29)\n",
    "end_date = datetime.date(2023, 5, 12)\n",
    "delta = datetime.timedelta(days=1)\n",
    "\n",
    "current_date = start_date\n",
    "while current_date <= end_date:\n",
    "    current_hour = datetime.datetime.combine(current_date, datetime.time.min)\n",
    "    while current_hour <= datetime.datetime.combine(current_date, datetime.time.max):\n",
    "        query_string = \"horodate%3A%5B{}Z+TO+{}Z%5D\".format(current_date.isoformat() + \"T00:00:00\", (current_date+delta).isoformat() + \"T00:00:00\")\n",
    "        url = base_url.format(query_string)\n",
    "        \n",
    "        \n",
    "        \n",
    "        request_get(url)\n",
    "\n",
    "\n",
    "\n",
    "        print(f\"Done: {current_hour}\")\n",
    "        # process the response as needed\n",
    "        time.sleep(0.005)\n",
    "        current_hour += delta\n",
    "\n",
    "\n",
    "    time.sleep(0.5)\n",
    "    current_date += datetime.timedelta(days=1)"
   ]
  },
  {
   "attachments": {},
   "cell_type": "markdown",
   "metadata": {},
   "source": [
    "### Read data"
   ]
  },
  {
   "cell_type": "code",
   "execution_count": 22,
   "metadata": {},
   "outputs": [],
   "source": [
    "df_all = pd.read_csv(\"Puissances_Electriques_au_pas_demi_heure.csv\")\n",
    "df_from23_4_2023 = pd.read_csv(\"Puissances_Electriques_au_pas_demi_heure_from_29_4_2023.csv\")"
   ]
  },
  {
   "attachments": {},
   "cell_type": "markdown",
   "metadata": {},
   "source": [
    "### concatenate data"
   ]
  },
  {
   "cell_type": "code",
   "execution_count": 23,
   "metadata": {},
   "outputs": [],
   "source": [
    "df = pd.concat([df_all, df_from23_4_2023])"
   ]
  },
  {
   "cell_type": "code",
   "execution_count": 24,
   "metadata": {},
   "outputs": [
    {
     "data": {
      "text/plain": [
       "(87770, 25)"
      ]
     },
     "execution_count": 24,
     "metadata": {},
     "output_type": "execute_result"
    }
   ],
   "source": [
    "df.shape"
   ]
  },
  {
   "cell_type": "code",
   "execution_count": 25,
   "metadata": {},
   "outputs": [
    {
     "name": "stdout",
     "output_type": "stream",
     "text": [
      "Number of rows in concatenated_df without duplicated: 87648\n"
     ]
    }
   ],
   "source": [
    "# remove duplicate rows\n",
    "df.drop_duplicates(inplace=True)\n",
    "print(\"Number of rows in concatenated_df without duplicated:\", len(df))\n",
    "# Write the DataFrame to a CSV file\n",
    "df.to_csv('./data/Puissances_Electriques_au_pas_demi_heure/Puissances_Electriques_au_pas_demi_heure_without_dublicates.csv', index=False)"
   ]
  },
  {
   "attachments": {},
   "cell_type": "markdown",
   "metadata": {},
   "source": [
    "### Split data to mutilple csv by day"
   ]
  },
  {
   "cell_type": "code",
   "execution_count": null,
   "metadata": {},
   "outputs": [],
   "source": [
    "# Convert the horodate column to a datetime object\n",
    "data['horodate'] = pd.to_datetime(data['horodate'])\n",
    "\n",
    "# Group the data by the horodate column\n",
    "groups = data.groupby(pd.Grouper(key='horodate', freq='D'))\n",
    "\n",
    "# Loop through the groups and write each group to a separate CSV file\n",
    "for name, group in groups:\n",
    "    filename = 'data/consommation_electrique/' + name.strftime('%Y-%m-%d') + '.csv'\n",
    "    group.to_csv(filename, index=False)\n"
   ]
  }
 ],
 "metadata": {
  "kernelspec": {
   "display_name": "base",
   "language": "python",
   "name": "python3"
  },
  "language_info": {
   "codemirror_mode": {
    "name": "ipython",
    "version": 3
   },
   "file_extension": ".py",
   "mimetype": "text/x-python",
   "name": "python",
   "nbconvert_exporter": "python",
   "pygments_lexer": "ipython3",
   "version": "3.11.3"
  },
  "orig_nbformat": 4,
  "vscode": {
   "interpreter": {
    "hash": "67bfac4f4aefe1c16f1836a62d55b6e6baa7aba1ac5ce70e93ee8e90eb4f073a"
   }
  }
 },
 "nbformat": 4,
 "nbformat_minor": 2
}
